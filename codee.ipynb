{
 "cells": [
  {
   "cell_type": "code",
   "execution_count": 9,
   "id": "9ad8f685",
   "metadata": {
    "_cell_guid": "b1076dfc-b9ad-4769-8c92-a6c4dae69d19",
    "_uuid": "8f2839f25d086af736a60e9eeb907d3b93b6e0e5",
    "execution": {
     "iopub.execute_input": "2024-04-29T07:47:24.849208Z",
     "iopub.status.busy": "2024-04-29T07:47:24.848044Z",
     "iopub.status.idle": "2024-04-29T07:47:27.958061Z",
     "shell.execute_reply": "2024-04-29T07:47:27.957176Z"
    },
    "papermill": {
     "duration": 3.122607,
     "end_time": "2024-04-29T07:47:27.960148",
     "exception": false,
     "start_time": "2024-04-29T07:47:24.837541",
     "status": "completed"
    },
    "tags": []
   },
   "outputs": [
    {
     "data": {
      "text/html": [
       "<div>\n",
       "<style scoped>\n",
       "    .dataframe tbody tr th:only-of-type {\n",
       "        vertical-align: middle;\n",
       "    }\n",
       "\n",
       "    .dataframe tbody tr th {\n",
       "        vertical-align: top;\n",
       "    }\n",
       "\n",
       "    .dataframe thead th {\n",
       "        text-align: right;\n",
       "    }\n",
       "</style>\n",
       "<table border=\"1\" class=\"dataframe\">\n",
       "  <thead>\n",
       "    <tr style=\"text-align: right;\">\n",
       "      <th></th>\n",
       "      <th>Person ID</th>\n",
       "      <th>Gender</th>\n",
       "      <th>Age</th>\n",
       "      <th>Occupation</th>\n",
       "      <th>Sleep Duration</th>\n",
       "      <th>Quality of Sleep</th>\n",
       "      <th>Physical Activity Level</th>\n",
       "      <th>Stress Level</th>\n",
       "      <th>BMI Category</th>\n",
       "      <th>Blood Pressure</th>\n",
       "      <th>Heart Rate</th>\n",
       "      <th>Daily Steps</th>\n",
       "      <th>Sleep Disorder</th>\n",
       "    </tr>\n",
       "  </thead>\n",
       "  <tbody>\n",
       "    <tr>\n",
       "      <th>0</th>\n",
       "      <td>1</td>\n",
       "      <td>Male</td>\n",
       "      <td>27</td>\n",
       "      <td>Software Engineer</td>\n",
       "      <td>6.1</td>\n",
       "      <td>6</td>\n",
       "      <td>42</td>\n",
       "      <td>6</td>\n",
       "      <td>Overweight</td>\n",
       "      <td>126/83</td>\n",
       "      <td>77</td>\n",
       "      <td>4200</td>\n",
       "      <td>NaN</td>\n",
       "    </tr>\n",
       "    <tr>\n",
       "      <th>1</th>\n",
       "      <td>2</td>\n",
       "      <td>Male</td>\n",
       "      <td>28</td>\n",
       "      <td>Doctor</td>\n",
       "      <td>6.2</td>\n",
       "      <td>6</td>\n",
       "      <td>60</td>\n",
       "      <td>8</td>\n",
       "      <td>Normal</td>\n",
       "      <td>125/80</td>\n",
       "      <td>75</td>\n",
       "      <td>10000</td>\n",
       "      <td>NaN</td>\n",
       "    </tr>\n",
       "    <tr>\n",
       "      <th>2</th>\n",
       "      <td>3</td>\n",
       "      <td>Male</td>\n",
       "      <td>28</td>\n",
       "      <td>Doctor</td>\n",
       "      <td>6.2</td>\n",
       "      <td>6</td>\n",
       "      <td>60</td>\n",
       "      <td>8</td>\n",
       "      <td>Normal</td>\n",
       "      <td>125/80</td>\n",
       "      <td>75</td>\n",
       "      <td>10000</td>\n",
       "      <td>NaN</td>\n",
       "    </tr>\n",
       "    <tr>\n",
       "      <th>3</th>\n",
       "      <td>4</td>\n",
       "      <td>Male</td>\n",
       "      <td>28</td>\n",
       "      <td>Sales Representative</td>\n",
       "      <td>5.9</td>\n",
       "      <td>4</td>\n",
       "      <td>30</td>\n",
       "      <td>8</td>\n",
       "      <td>Obese</td>\n",
       "      <td>140/90</td>\n",
       "      <td>85</td>\n",
       "      <td>3000</td>\n",
       "      <td>Sleep Apnea</td>\n",
       "    </tr>\n",
       "    <tr>\n",
       "      <th>4</th>\n",
       "      <td>5</td>\n",
       "      <td>Male</td>\n",
       "      <td>28</td>\n",
       "      <td>Sales Representative</td>\n",
       "      <td>5.9</td>\n",
       "      <td>4</td>\n",
       "      <td>30</td>\n",
       "      <td>8</td>\n",
       "      <td>Obese</td>\n",
       "      <td>140/90</td>\n",
       "      <td>85</td>\n",
       "      <td>3000</td>\n",
       "      <td>Sleep Apnea</td>\n",
       "    </tr>\n",
       "  </tbody>\n",
       "</table>\n",
       "</div>"
      ],
      "text/plain": [
       "   Person ID Gender  Age            Occupation  Sleep Duration  \\\n",
       "0          1   Male   27     Software Engineer             6.1   \n",
       "1          2   Male   28                Doctor             6.2   \n",
       "2          3   Male   28                Doctor             6.2   \n",
       "3          4   Male   28  Sales Representative             5.9   \n",
       "4          5   Male   28  Sales Representative             5.9   \n",
       "\n",
       "   Quality of Sleep  Physical Activity Level  Stress Level BMI Category  \\\n",
       "0                 6                       42             6   Overweight   \n",
       "1                 6                       60             8       Normal   \n",
       "2                 6                       60             8       Normal   \n",
       "3                 4                       30             8        Obese   \n",
       "4                 4                       30             8        Obese   \n",
       "\n",
       "  Blood Pressure  Heart Rate  Daily Steps Sleep Disorder  \n",
       "0         126/83          77         4200            NaN  \n",
       "1         125/80          75        10000            NaN  \n",
       "2         125/80          75        10000            NaN  \n",
       "3         140/90          85         3000    Sleep Apnea  \n",
       "4         140/90          85         3000    Sleep Apnea  "
      ]
     },
     "execution_count": 9,
     "metadata": {},
     "output_type": "execute_result"
    }
   ],
   "source": [
    "import numpy as np\n",
    "import pandas as pd\n",
    "# import plotly.graph_objs as go\n",
    "# import plotly.express as px\n",
    "import matplotlib.pyplot as plt\n",
    "import seaborn as sns\n",
    "import warnings\n",
    "warnings.filterwarnings('ignore')\n",
    "\n",
    "import os\n",
    "for dirname, _, filenames in os.walk('/kaggle/input'):\n",
    "    for filename in filenames:\n",
    "        print(os.path.join(dirname, filename))\n",
    "\n",
    "df = pd.read_csv('D:\\Mini-project\\Micro\\BDA\\Sleep_health_and_lifestyle_dataset.csv')\n",
    "df.head()"
   ]
  },
  {
   "cell_type": "markdown",
   "id": "2e761567",
   "metadata": {
    "papermill": {
     "duration": 0.007716,
     "end_time": "2024-04-29T07:47:27.976111",
     "exception": false,
     "start_time": "2024-04-29T07:47:27.968395",
     "status": "completed"
    },
    "tags": []
   },
   "source": [
    "> # EDA"
   ]
  },
  {
   "cell_type": "code",
   "execution_count": 10,
   "id": "760f8c12",
   "metadata": {
    "execution": {
     "iopub.execute_input": "2024-04-29T07:47:27.994143Z",
     "iopub.status.busy": "2024-04-29T07:47:27.993454Z",
     "iopub.status.idle": "2024-04-29T07:47:28.017550Z",
     "shell.execute_reply": "2024-04-29T07:47:28.016587Z"
    },
    "papermill": {
     "duration": 0.035516,
     "end_time": "2024-04-29T07:47:28.019698",
     "exception": false,
     "start_time": "2024-04-29T07:47:27.984182",
     "status": "completed"
    },
    "tags": []
   },
   "outputs": [
    {
     "data": {
      "text/html": [
       "<div>\n",
       "<style scoped>\n",
       "    .dataframe tbody tr th:only-of-type {\n",
       "        vertical-align: middle;\n",
       "    }\n",
       "\n",
       "    .dataframe tbody tr th {\n",
       "        vertical-align: top;\n",
       "    }\n",
       "\n",
       "    .dataframe thead th {\n",
       "        text-align: right;\n",
       "    }\n",
       "</style>\n",
       "<table border=\"1\" class=\"dataframe\">\n",
       "  <thead>\n",
       "    <tr style=\"text-align: right;\">\n",
       "      <th></th>\n",
       "      <th>Person ID</th>\n",
       "      <th>Gender</th>\n",
       "      <th>Age</th>\n",
       "      <th>Occupation</th>\n",
       "      <th>Sleep Duration</th>\n",
       "      <th>Quality of Sleep</th>\n",
       "      <th>Physical Activity Level</th>\n",
       "      <th>Stress Level</th>\n",
       "      <th>BMI Category</th>\n",
       "      <th>Blood Pressure</th>\n",
       "      <th>Heart Rate</th>\n",
       "      <th>Daily Steps</th>\n",
       "      <th>Sleep Disorder</th>\n",
       "    </tr>\n",
       "  </thead>\n",
       "  <tbody>\n",
       "    <tr>\n",
       "      <th>0</th>\n",
       "      <td>1</td>\n",
       "      <td>Male</td>\n",
       "      <td>27</td>\n",
       "      <td>Software Engineer</td>\n",
       "      <td>6.1</td>\n",
       "      <td>6</td>\n",
       "      <td>42</td>\n",
       "      <td>6</td>\n",
       "      <td>Overweight</td>\n",
       "      <td>126/83</td>\n",
       "      <td>77</td>\n",
       "      <td>4200</td>\n",
       "      <td>NaN</td>\n",
       "    </tr>\n",
       "    <tr>\n",
       "      <th>1</th>\n",
       "      <td>2</td>\n",
       "      <td>Male</td>\n",
       "      <td>28</td>\n",
       "      <td>Doctor</td>\n",
       "      <td>6.2</td>\n",
       "      <td>6</td>\n",
       "      <td>60</td>\n",
       "      <td>8</td>\n",
       "      <td>Normal</td>\n",
       "      <td>125/80</td>\n",
       "      <td>75</td>\n",
       "      <td>10000</td>\n",
       "      <td>NaN</td>\n",
       "    </tr>\n",
       "    <tr>\n",
       "      <th>2</th>\n",
       "      <td>3</td>\n",
       "      <td>Male</td>\n",
       "      <td>28</td>\n",
       "      <td>Doctor</td>\n",
       "      <td>6.2</td>\n",
       "      <td>6</td>\n",
       "      <td>60</td>\n",
       "      <td>8</td>\n",
       "      <td>Normal</td>\n",
       "      <td>125/80</td>\n",
       "      <td>75</td>\n",
       "      <td>10000</td>\n",
       "      <td>NaN</td>\n",
       "    </tr>\n",
       "    <tr>\n",
       "      <th>3</th>\n",
       "      <td>4</td>\n",
       "      <td>Male</td>\n",
       "      <td>28</td>\n",
       "      <td>Sales Representative</td>\n",
       "      <td>5.9</td>\n",
       "      <td>4</td>\n",
       "      <td>30</td>\n",
       "      <td>8</td>\n",
       "      <td>Obese</td>\n",
       "      <td>140/90</td>\n",
       "      <td>85</td>\n",
       "      <td>3000</td>\n",
       "      <td>Sleep Apnea</td>\n",
       "    </tr>\n",
       "    <tr>\n",
       "      <th>4</th>\n",
       "      <td>5</td>\n",
       "      <td>Male</td>\n",
       "      <td>28</td>\n",
       "      <td>Sales Representative</td>\n",
       "      <td>5.9</td>\n",
       "      <td>4</td>\n",
       "      <td>30</td>\n",
       "      <td>8</td>\n",
       "      <td>Obese</td>\n",
       "      <td>140/90</td>\n",
       "      <td>85</td>\n",
       "      <td>3000</td>\n",
       "      <td>Sleep Apnea</td>\n",
       "    </tr>\n",
       "  </tbody>\n",
       "</table>\n",
       "</div>"
      ],
      "text/plain": [
       "   Person ID Gender  Age            Occupation  Sleep Duration  \\\n",
       "0          1   Male   27     Software Engineer             6.1   \n",
       "1          2   Male   28                Doctor             6.2   \n",
       "2          3   Male   28                Doctor             6.2   \n",
       "3          4   Male   28  Sales Representative             5.9   \n",
       "4          5   Male   28  Sales Representative             5.9   \n",
       "\n",
       "   Quality of Sleep  Physical Activity Level  Stress Level BMI Category  \\\n",
       "0                 6                       42             6   Overweight   \n",
       "1                 6                       60             8       Normal   \n",
       "2                 6                       60             8       Normal   \n",
       "3                 4                       30             8        Obese   \n",
       "4                 4                       30             8        Obese   \n",
       "\n",
       "  Blood Pressure  Heart Rate  Daily Steps Sleep Disorder  \n",
       "0         126/83          77         4200            NaN  \n",
       "1         125/80          75        10000            NaN  \n",
       "2         125/80          75        10000            NaN  \n",
       "3         140/90          85         3000    Sleep Apnea  \n",
       "4         140/90          85         3000    Sleep Apnea  "
      ]
     },
     "execution_count": 10,
     "metadata": {},
     "output_type": "execute_result"
    }
   ],
   "source": [
    "df.head()"
   ]
  },
  {
   "cell_type": "code",
   "execution_count": 11,
   "id": "10fe3bac",
   "metadata": {
    "execution": {
     "iopub.execute_input": "2024-04-29T07:47:28.038549Z",
     "iopub.status.busy": "2024-04-29T07:47:28.037890Z",
     "iopub.status.idle": "2024-04-29T07:47:28.066260Z",
     "shell.execute_reply": "2024-04-29T07:47:28.064248Z"
    },
    "papermill": {
     "duration": 0.04052,
     "end_time": "2024-04-29T07:47:28.068710",
     "exception": false,
     "start_time": "2024-04-29T07:47:28.028190",
     "status": "completed"
    },
    "tags": []
   },
   "outputs": [
    {
     "name": "stdout",
     "output_type": "stream",
     "text": [
      "<class 'pandas.core.frame.DataFrame'>\n",
      "RangeIndex: 374 entries, 0 to 373\n",
      "Data columns (total 13 columns):\n",
      " #   Column                   Non-Null Count  Dtype  \n",
      "---  ------                   --------------  -----  \n",
      " 0   Person ID                374 non-null    int64  \n",
      " 1   Gender                   374 non-null    object \n",
      " 2   Age                      374 non-null    int64  \n",
      " 3   Occupation               374 non-null    object \n",
      " 4   Sleep Duration           374 non-null    float64\n",
      " 5   Quality of Sleep         374 non-null    int64  \n",
      " 6   Physical Activity Level  374 non-null    int64  \n",
      " 7   Stress Level             374 non-null    int64  \n",
      " 8   BMI Category             374 non-null    object \n",
      " 9   Blood Pressure           374 non-null    object \n",
      " 10  Heart Rate               374 non-null    int64  \n",
      " 11  Daily Steps              374 non-null    int64  \n",
      " 12  Sleep Disorder           155 non-null    object \n",
      "dtypes: float64(1), int64(7), object(5)\n",
      "memory usage: 38.1+ KB\n"
     ]
    }
   ],
   "source": [
    "df.info()"
   ]
  },
  {
   "cell_type": "markdown",
   "id": "c9833c65",
   "metadata": {
    "papermill": {
     "duration": 0.008181,
     "end_time": "2024-04-29T07:47:28.085557",
     "exception": false,
     "start_time": "2024-04-29T07:47:28.077376",
     "status": "completed"
    },
    "tags": []
   },
   "source": [
    "* Person ID: An identifier for each individual in the dataset.\n",
    "* Gender: The gender of the person (Male/Female).\n",
    "* Age: The age of the person in years.\n",
    "* Occupation: The occupation or profession of the person.\n",
    "* Sleep Duration (hours): The number of hours the person sleeps per day.\n",
    "* Quality of Sleep (scale: 1-10): A subjective rating of the quality of sleep, ranging from 1 to 10\n",
    "* Physical Activity Level (minutes/day): The number of minutes the person engages in physical activity daily.\n",
    "* Stress Level (scale: 1-10): A subjective rating of the stress level experienced by the person, ranging from 1 to 10.\n",
    "* BMI Category: The BMI category of the person (e.g., Underweight, Normal, Overweight).\n",
    "* Blood Pressure (systolic/diastolic): The blood pressure measurement of the person, indicated as systolic pressure over diastolic pressure.\n",
    "* Heart Rate (bpm): The resting heart rate of the person in beats per minute.\n",
    "* Daily Steps: The number of steps the person takes per day.\n",
    "* Sleep Disorder: The presence or absence of a sleep disorder in the person (None, Insomnia, Sleep Apnea)."
   ]
  },
  {
   "cell_type": "code",
   "execution_count": 12,
   "id": "b2c49845",
   "metadata": {
    "execution": {
     "iopub.execute_input": "2024-04-29T07:47:28.104129Z",
     "iopub.status.busy": "2024-04-29T07:47:28.103648Z",
     "iopub.status.idle": "2024-04-29T07:47:28.112717Z",
     "shell.execute_reply": "2024-04-29T07:47:28.111670Z"
    },
    "papermill": {
     "duration": 0.02063,
     "end_time": "2024-04-29T07:47:28.114704",
     "exception": false,
     "start_time": "2024-04-29T07:47:28.094074",
     "status": "completed"
    },
    "tags": []
   },
   "outputs": [
    {
     "data": {
      "text/plain": [
       "Person ID                    0\n",
       "Gender                       0\n",
       "Age                          0\n",
       "Occupation                   0\n",
       "Sleep Duration               0\n",
       "Quality of Sleep             0\n",
       "Physical Activity Level      0\n",
       "Stress Level                 0\n",
       "BMI Category                 0\n",
       "Blood Pressure               0\n",
       "Heart Rate                   0\n",
       "Daily Steps                  0\n",
       "Sleep Disorder             219\n",
       "dtype: int64"
      ]
     },
     "execution_count": 12,
     "metadata": {},
     "output_type": "execute_result"
    }
   ],
   "source": [
    "df.isnull().sum()"
   ]
  },
  {
   "cell_type": "code",
   "execution_count": 13,
   "id": "354cd968",
   "metadata": {
    "execution": {
     "iopub.execute_input": "2024-04-29T07:47:28.134578Z",
     "iopub.status.busy": "2024-04-29T07:47:28.134184Z",
     "iopub.status.idle": "2024-04-29T07:47:28.143090Z",
     "shell.execute_reply": "2024-04-29T07:47:28.142200Z"
    },
    "papermill": {
     "duration": 0.021062,
     "end_time": "2024-04-29T07:47:28.145353",
     "exception": false,
     "start_time": "2024-04-29T07:47:28.124291",
     "status": "completed"
    },
    "tags": []
   },
   "outputs": [
    {
     "name": "stdout",
     "output_type": "stream",
     "text": [
      "Occupation\n",
      "Nurse                   73\n",
      "Doctor                  71\n",
      "Engineer                63\n",
      "Lawyer                  47\n",
      "Teacher                 40\n",
      "Accountant              37\n",
      "Salesperson             32\n",
      "Software Engineer        4\n",
      "Scientist                4\n",
      "Sales Representative     2\n",
      "Manager                  1\n",
      "Name: count, dtype: int64\n",
      "\n",
      "\n",
      "\n",
      "Occupation\n",
      "Nurse                   73\n",
      "Doctor                  71\n",
      "Engineer                63\n",
      "Lawyer                  47\n",
      "Teacher                 40\n",
      "Accountant              37\n",
      "Salesperson             32\n",
      "Software Engineer        4\n",
      "Scientist                4\n",
      "Sales Representative     2\n",
      "Manager                  1\n",
      "Name: count, dtype: int64\n",
      "\n",
      "\n",
      "\n",
      "Sleep Disorder\n",
      "Sleep Apnea    78\n",
      "Insomnia       77\n",
      "Name: count, dtype: int64\n"
     ]
    }
   ],
   "source": [
    "print( df['Occupation'].value_counts() ); print( \"\\n\\n\")\n",
    "print( df['Occupation'].value_counts() ); print( \"\\n\\n\")\n",
    "print( df['Sleep Disorder'].value_counts() )"
   ]
  },
  {
   "cell_type": "code",
   "execution_count": 14,
   "id": "710b95b9",
   "metadata": {
    "execution": {
     "iopub.execute_input": "2024-04-29T07:47:28.164939Z",
     "iopub.status.busy": "2024-04-29T07:47:28.164231Z",
     "iopub.status.idle": "2024-04-29T07:47:28.170660Z",
     "shell.execute_reply": "2024-04-29T07:47:28.169910Z"
    },
    "papermill": {
     "duration": 0.018549,
     "end_time": "2024-04-29T07:47:28.172625",
     "exception": false,
     "start_time": "2024-04-29T07:47:28.154076",
     "status": "completed"
    },
    "tags": []
   },
   "outputs": [],
   "source": [
    "# def plotly_boxplot(df , numeric_types , color  , row = None) :\n",
    "#     def gather( df, key, value, cols ):\n",
    "#         id_vars = [ col for col in df.columns if col not in cols ]\n",
    "#         id_values = cols\n",
    "#         var_name = key\n",
    "#         value_name = value\n",
    "#         return pd.melt( df, id_vars, id_values, var_name, value_name )\n",
    "#     numeric_gather = gather( df , 'key', 'value', numeric_types )\n",
    "#     fig = px.box(numeric_gather, x=\"key\", y=\"value\",\n",
    "#                  facet_col=\"key\" ,color = color , \n",
    "#                  facet_row=row )\n",
    "#     fig.update_yaxes(showticklabels=True , matches=None)\n",
    "#     fig.update_xaxes(showticklabels=True , matches=None)\n",
    "#     fig.show()"
   ]
  },
  {
   "cell_type": "code",
   "execution_count": 15,
   "id": "683975b6",
   "metadata": {
    "execution": {
     "iopub.execute_input": "2024-04-29T07:47:28.192168Z",
     "iopub.status.busy": "2024-04-29T07:47:28.191340Z",
     "iopub.status.idle": "2024-04-29T07:47:30.241536Z",
     "shell.execute_reply": "2024-04-29T07:47:30.240445Z"
    },
    "papermill": {
     "duration": 2.062718,
     "end_time": "2024-04-29T07:47:30.244090",
     "exception": false,
     "start_time": "2024-04-29T07:47:28.181372",
     "status": "completed"
    },
    "tags": []
   },
   "outputs": [],
   "source": [
    "# plotly_boxplot(df, [\"Stress Level\", \"Sleep Duration\"], \"Occupation\")"
   ]
  },
  {
   "cell_type": "code",
   "execution_count": 16,
   "id": "d47d62e0",
   "metadata": {
    "execution": {
     "iopub.execute_input": "2024-04-29T07:47:30.266757Z",
     "iopub.status.busy": "2024-04-29T07:47:30.266108Z",
     "iopub.status.idle": "2024-04-29T07:47:30.469444Z",
     "shell.execute_reply": "2024-04-29T07:47:30.468336Z"
    },
    "papermill": {
     "duration": 0.217852,
     "end_time": "2024-04-29T07:47:30.471783",
     "exception": false,
     "start_time": "2024-04-29T07:47:30.253931",
     "status": "completed"
    },
    "tags": []
   },
   "outputs": [],
   "source": [
    "# plotly_boxplot(df, [\"Stress Level\", \"Sleep Duration\"], \"BMI Category\")"
   ]
  },
  {
   "cell_type": "code",
   "execution_count": 17,
   "id": "41ecde4a",
   "metadata": {
    "execution": {
     "iopub.execute_input": "2024-04-29T07:47:30.493924Z",
     "iopub.status.busy": "2024-04-29T07:47:30.493531Z",
     "iopub.status.idle": "2024-04-29T07:47:30.572939Z",
     "shell.execute_reply": "2024-04-29T07:47:30.571792Z"
    },
    "papermill": {
     "duration": 0.093501,
     "end_time": "2024-04-29T07:47:30.575331",
     "exception": false,
     "start_time": "2024-04-29T07:47:30.481830",
     "status": "completed"
    },
    "tags": []
   },
   "outputs": [],
   "source": [
    "# plotly_boxplot(df, [\"Quality of Sleep\"], \"BMI Category\")"
   ]
  },
  {
   "cell_type": "code",
   "execution_count": 18,
   "id": "a20b627e",
   "metadata": {
    "execution": {
     "iopub.execute_input": "2024-04-29T07:47:30.597936Z",
     "iopub.status.busy": "2024-04-29T07:47:30.597526Z",
     "iopub.status.idle": "2024-04-29T07:47:30.604735Z",
     "shell.execute_reply": "2024-04-29T07:47:30.603440Z"
    },
    "papermill": {
     "duration": 0.021511,
     "end_time": "2024-04-29T07:47:30.607370",
     "exception": false,
     "start_time": "2024-04-29T07:47:30.585859",
     "status": "completed"
    },
    "tags": []
   },
   "outputs": [],
   "source": [
    "# def plotly_scatter(df , numerical_column_one, numerical_column_two ,\n",
    "#                    color = None  , row = None , col =None) :\n",
    "#     fig = px.scatter(df, \n",
    "#                      x=numerical_column_one,\n",
    "#                      y=numerical_column_two,\n",
    "#                      facet_col=col,\n",
    "#                      color = color , \n",
    "#                      facet_row=row , height = 600)\n",
    "#     fig.update_yaxes(showticklabels=True , matches=None ,)\n",
    "#     fig.update_xaxes(showticklabels=True , matches=None)\n",
    "#     fig.show()"
   ]
  },
  {
   "cell_type": "code",
   "execution_count": 19,
   "id": "f59e352f",
   "metadata": {
    "execution": {
     "iopub.execute_input": "2024-04-29T07:47:30.630047Z",
     "iopub.status.busy": "2024-04-29T07:47:30.629609Z",
     "iopub.status.idle": "2024-04-29T07:47:30.731477Z",
     "shell.execute_reply": "2024-04-29T07:47:30.730284Z"
    },
    "papermill": {
     "duration": 0.115802,
     "end_time": "2024-04-29T07:47:30.733692",
     "exception": false,
     "start_time": "2024-04-29T07:47:30.617890",
     "status": "completed"
    },
    "tags": []
   },
   "outputs": [],
   "source": [
    "# plotly_scatter(df, \"Age\", \"Sleep Duration\",color=\"BMI Category\")"
   ]
  },
  {
   "cell_type": "code",
   "execution_count": 20,
   "id": "a4137021",
   "metadata": {
    "execution": {
     "iopub.execute_input": "2024-04-29T07:47:30.757212Z",
     "iopub.status.busy": "2024-04-29T07:47:30.755832Z",
     "iopub.status.idle": "2024-04-29T07:47:31.122202Z",
     "shell.execute_reply": "2024-04-29T07:47:31.121387Z"
    },
    "papermill": {
     "duration": 0.380482,
     "end_time": "2024-04-29T07:47:31.124678",
     "exception": false,
     "start_time": "2024-04-29T07:47:30.744196",
     "status": "completed"
    },
    "tags": []
   },
   "outputs": [],
   "source": [
    "# color_palette = {'Male': 'lightblue', 'Female': 'lightcoral'}\n",
    "# plt.figure(figsize=(10, 6))\n",
    "# sns.violinplot(x='Gender', y='Quality of Sleep', data=df, palette=color_palette)\n",
    "# plt.title('Distribution of Quality of Sleep by Gender', fontsize=16)\n",
    "# plt.xlabel('Gender', fontsize=12)\n",
    "# plt.ylabel('Quality of Sleep', fontsize=12)\n",
    "# plt.show()"
   ]
  },
  {
   "cell_type": "code",
   "execution_count": 21,
   "id": "433b98bc",
   "metadata": {
    "execution": {
     "iopub.execute_input": "2024-04-29T07:47:31.151337Z",
     "iopub.status.busy": "2024-04-29T07:47:31.149257Z",
     "iopub.status.idle": "2024-04-29T07:47:31.227377Z",
     "shell.execute_reply": "2024-04-29T07:47:31.226334Z"
    },
    "papermill": {
     "duration": 0.093477,
     "end_time": "2024-04-29T07:47:31.229752",
     "exception": false,
     "start_time": "2024-04-29T07:47:31.136275",
     "status": "completed"
    },
    "tags": []
   },
   "outputs": [],
   "source": [
    "# fig = px.bar(df, \n",
    "#              x='Stress Level', \n",
    "#              y='Quality of Sleep',\n",
    "#              title='Relationship between Stress Level and Quality of Sleep',\n",
    "#              width = 900, height = 600\n",
    "#             )\n",
    "# fig.show()"
   ]
  },
  {
   "cell_type": "code",
   "execution_count": 22,
   "id": "bb21f2c7",
   "metadata": {
    "execution": {
     "iopub.execute_input": "2024-04-29T07:47:31.254221Z",
     "iopub.status.busy": "2024-04-29T07:47:31.253835Z",
     "iopub.status.idle": "2024-04-29T07:47:31.367297Z",
     "shell.execute_reply": "2024-04-29T07:47:31.366209Z"
    },
    "papermill": {
     "duration": 0.128468,
     "end_time": "2024-04-29T07:47:31.369782",
     "exception": false,
     "start_time": "2024-04-29T07:47:31.241314",
     "status": "completed"
    },
    "tags": []
   },
   "outputs": [],
   "source": [
    "# plotly_boxplot(df, [\"Stress Level\", \"Sleep Duration\"], \"Quality of Sleep\")"
   ]
  },
  {
   "cell_type": "markdown",
   "id": "daf4ec02",
   "metadata": {
    "papermill": {
     "duration": 0.01151,
     "end_time": "2024-04-29T07:47:31.393687",
     "exception": false,
     "start_time": "2024-04-29T07:47:31.382177",
     "status": "completed"
    },
    "tags": []
   },
   "source": [
    "> # Data Preprocessing"
   ]
  },
  {
   "cell_type": "code",
   "execution_count": 23,
   "id": "f53ea1f9",
   "metadata": {
    "execution": {
     "iopub.execute_input": "2024-04-29T07:47:31.418951Z",
     "iopub.status.busy": "2024-04-29T07:47:31.418572Z",
     "iopub.status.idle": "2024-04-29T07:47:31.430374Z",
     "shell.execute_reply": "2024-04-29T07:47:31.429179Z"
    },
    "papermill": {
     "duration": 0.027167,
     "end_time": "2024-04-29T07:47:31.432737",
     "exception": false,
     "start_time": "2024-04-29T07:47:31.405570",
     "status": "completed"
    },
    "tags": []
   },
   "outputs": [],
   "source": [
    "df = pd.concat([df, df['Blood Pressure'].str.split('/', expand=True)], axis=1).drop('Blood Pressure', axis=1)\n",
    "df = df.rename(columns={0: 'BloodPressure_Upper', 1: 'BloodPressure_Lower'})\n",
    "df['BloodPressure_Upper'] = df['BloodPressure_Upper'].astype(float)\n",
    "df['BloodPressure_Lower'] = df['BloodPressure_Lower'].astype(float)"
   ]
  },
  {
   "cell_type": "code",
   "execution_count": 24,
   "id": "82ce013d",
   "metadata": {
    "execution": {
     "iopub.execute_input": "2024-04-29T07:47:31.458831Z",
     "iopub.status.busy": "2024-04-29T07:47:31.458452Z",
     "iopub.status.idle": "2024-04-29T07:47:31.652465Z",
     "shell.execute_reply": "2024-04-29T07:47:31.651646Z"
    },
    "papermill": {
     "duration": 0.209301,
     "end_time": "2024-04-29T07:47:31.654496",
     "exception": false,
     "start_time": "2024-04-29T07:47:31.445195",
     "status": "completed"
    },
    "tags": []
   },
   "outputs": [
    {
     "data": {
      "text/html": [
       "<div>\n",
       "<style scoped>\n",
       "    .dataframe tbody tr th:only-of-type {\n",
       "        vertical-align: middle;\n",
       "    }\n",
       "\n",
       "    .dataframe tbody tr th {\n",
       "        vertical-align: top;\n",
       "    }\n",
       "\n",
       "    .dataframe thead th {\n",
       "        text-align: right;\n",
       "    }\n",
       "</style>\n",
       "<table border=\"1\" class=\"dataframe\">\n",
       "  <thead>\n",
       "    <tr style=\"text-align: right;\">\n",
       "      <th></th>\n",
       "      <th>Person ID</th>\n",
       "      <th>Gender</th>\n",
       "      <th>Age</th>\n",
       "      <th>Occupation</th>\n",
       "      <th>Sleep Duration</th>\n",
       "      <th>Quality of Sleep</th>\n",
       "      <th>Physical Activity Level</th>\n",
       "      <th>Stress Level</th>\n",
       "      <th>BMI Category</th>\n",
       "      <th>Heart Rate</th>\n",
       "      <th>Daily Steps</th>\n",
       "      <th>Sleep Disorder</th>\n",
       "      <th>BloodPressure_Upper</th>\n",
       "      <th>BloodPressure_Lower</th>\n",
       "    </tr>\n",
       "  </thead>\n",
       "  <tbody>\n",
       "    <tr>\n",
       "      <th>0</th>\n",
       "      <td>1</td>\n",
       "      <td>1</td>\n",
       "      <td>27</td>\n",
       "      <td>9</td>\n",
       "      <td>6.1</td>\n",
       "      <td>6</td>\n",
       "      <td>42</td>\n",
       "      <td>6</td>\n",
       "      <td>3</td>\n",
       "      <td>77</td>\n",
       "      <td>4200</td>\n",
       "      <td>2</td>\n",
       "      <td>126.0</td>\n",
       "      <td>83.0</td>\n",
       "    </tr>\n",
       "    <tr>\n",
       "      <th>1</th>\n",
       "      <td>2</td>\n",
       "      <td>1</td>\n",
       "      <td>28</td>\n",
       "      <td>1</td>\n",
       "      <td>6.2</td>\n",
       "      <td>6</td>\n",
       "      <td>60</td>\n",
       "      <td>8</td>\n",
       "      <td>0</td>\n",
       "      <td>75</td>\n",
       "      <td>10000</td>\n",
       "      <td>2</td>\n",
       "      <td>125.0</td>\n",
       "      <td>80.0</td>\n",
       "    </tr>\n",
       "    <tr>\n",
       "      <th>2</th>\n",
       "      <td>3</td>\n",
       "      <td>1</td>\n",
       "      <td>28</td>\n",
       "      <td>1</td>\n",
       "      <td>6.2</td>\n",
       "      <td>6</td>\n",
       "      <td>60</td>\n",
       "      <td>8</td>\n",
       "      <td>0</td>\n",
       "      <td>75</td>\n",
       "      <td>10000</td>\n",
       "      <td>2</td>\n",
       "      <td>125.0</td>\n",
       "      <td>80.0</td>\n",
       "    </tr>\n",
       "    <tr>\n",
       "      <th>3</th>\n",
       "      <td>4</td>\n",
       "      <td>1</td>\n",
       "      <td>28</td>\n",
       "      <td>6</td>\n",
       "      <td>5.9</td>\n",
       "      <td>4</td>\n",
       "      <td>30</td>\n",
       "      <td>8</td>\n",
       "      <td>2</td>\n",
       "      <td>85</td>\n",
       "      <td>3000</td>\n",
       "      <td>1</td>\n",
       "      <td>140.0</td>\n",
       "      <td>90.0</td>\n",
       "    </tr>\n",
       "    <tr>\n",
       "      <th>4</th>\n",
       "      <td>5</td>\n",
       "      <td>1</td>\n",
       "      <td>28</td>\n",
       "      <td>6</td>\n",
       "      <td>5.9</td>\n",
       "      <td>4</td>\n",
       "      <td>30</td>\n",
       "      <td>8</td>\n",
       "      <td>2</td>\n",
       "      <td>85</td>\n",
       "      <td>3000</td>\n",
       "      <td>1</td>\n",
       "      <td>140.0</td>\n",
       "      <td>90.0</td>\n",
       "    </tr>\n",
       "  </tbody>\n",
       "</table>\n",
       "</div>"
      ],
      "text/plain": [
       "   Person ID  Gender  Age  Occupation  Sleep Duration  Quality of Sleep  \\\n",
       "0          1       1   27           9             6.1                 6   \n",
       "1          2       1   28           1             6.2                 6   \n",
       "2          3       1   28           1             6.2                 6   \n",
       "3          4       1   28           6             5.9                 4   \n",
       "4          5       1   28           6             5.9                 4   \n",
       "\n",
       "   Physical Activity Level  Stress Level  BMI Category  Heart Rate  \\\n",
       "0                       42             6             3          77   \n",
       "1                       60             8             0          75   \n",
       "2                       60             8             0          75   \n",
       "3                       30             8             2          85   \n",
       "4                       30             8             2          85   \n",
       "\n",
       "   Daily Steps  Sleep Disorder  BloodPressure_Upper  BloodPressure_Lower  \n",
       "0         4200               2                126.0                 83.0  \n",
       "1        10000               2                125.0                 80.0  \n",
       "2        10000               2                125.0                 80.0  \n",
       "3         3000               1                140.0                 90.0  \n",
       "4         3000               1                140.0                 90.0  "
      ]
     },
     "execution_count": 24,
     "metadata": {},
     "output_type": "execute_result"
    }
   ],
   "source": [
    "from sklearn import preprocessing \n",
    "label_encoder = preprocessing.LabelEncoder()\n",
    "df['Gender'] = label_encoder.fit_transform(df['Gender'])\n",
    "df['Occupation'] = label_encoder.fit_transform(df['Occupation'])\n",
    "df['BMI Category'] = label_encoder.fit_transform(df['BMI Category'])\n",
    "df['Sleep Disorder'] = label_encoder.fit_transform(df['Sleep Disorder'])\n",
    "df.head()"
   ]
  },
  {
   "cell_type": "code",
   "execution_count": 25,
   "id": "cddb22b6",
   "metadata": {
    "execution": {
     "iopub.execute_input": "2024-04-29T07:47:31.681539Z",
     "iopub.status.busy": "2024-04-29T07:47:31.681130Z",
     "iopub.status.idle": "2024-04-29T07:47:32.495697Z",
     "shell.execute_reply": "2024-04-29T07:47:32.494418Z"
    },
    "papermill": {
     "duration": 0.831838,
     "end_time": "2024-04-29T07:47:32.499251",
     "exception": false,
     "start_time": "2024-04-29T07:47:31.667413",
     "status": "completed"
    },
    "tags": []
   },
   "outputs": [
    {
     "data": {
      "image/png": "[encoded data removed]",
      "text/plain": [
       "<Figure size 1000x700 with 2 Axes>"
      ]
     },
     "metadata": {},
     "output_type": "display_data"
    }
   ],
   "source": [
    "def corr_vis(corr) :\n",
    "    mask = np.zeros_like(corr)\n",
    "    mask[np.triu_indices_from(mask)] = True\n",
    "    with sns.axes_style(\"white\"):\n",
    "        f, ax = plt.subplots(figsize=(10, 7))\n",
    "        g = sns.heatmap(corr, mask=mask, vmax=.3, square=True, annot=True, cmap='coolwarm')\n",
    "        g.set_xticklabels(g.get_xticklabels(), rotation = 90, fontsize = 10)\n",
    "\n",
    "num_corr = df.drop('Person ID', axis=1).corr()\n",
    "corr_vis(df.drop('Person ID', axis=1).corr())"
   ]
  },
  {
   "cell_type": "code",
   "execution_count": 26,
   "id": "dfb8eab4",
   "metadata": {
    "execution": {
     "iopub.execute_input": "2024-04-29T07:47:32.529460Z",
     "iopub.status.busy": "2024-04-29T07:47:32.528328Z",
     "iopub.status.idle": "2024-04-29T07:47:32.645078Z",
     "shell.execute_reply": "2024-04-29T07:47:32.643909Z"
    },
    "papermill": {
     "duration": 0.134445,
     "end_time": "2024-04-29T07:47:32.647659",
     "exception": false,
     "start_time": "2024-04-29T07:47:32.513214",
     "status": "completed"
    },
    "tags": []
   },
   "outputs": [],
   "source": [
    "# plotly_boxplot(df, [\"BloodPressure_Upper\", \"BloodPressure_Lower\"], \"Quality of Sleep\")"
   ]
  },
  {
   "cell_type": "markdown",
   "id": "9dff0d6d",
   "metadata": {
    "papermill": {
     "duration": 0.013927,
     "end_time": "2024-04-29T07:47:32.676051",
     "exception": false,
     "start_time": "2024-04-29T07:47:32.662124",
     "status": "completed"
    },
    "tags": []
   },
   "source": [
    "# Version1. Simple Logistic Regression\n",
    "* Accuracy : 91%\n",
    "* Without EDA\n",
    "* Without Scaler"
   ]
  },
  {
   "cell_type": "markdown",
   "id": "477fe5bd",
   "metadata": {
    "papermill": {
     "duration": 0.013899,
     "end_time": "2024-04-29T07:47:32.705065",
     "exception": false,
     "start_time": "2024-04-29T07:47:32.691166",
     "status": "completed"
    },
    "tags": []
   },
   "source": [
    "> # Step1. Data Check"
   ]
  },
  {
   "cell_type": "code",
   "execution_count": 27,
   "id": "6ec68338",
   "metadata": {
    "execution": {
     "iopub.execute_input": "2024-04-29T07:47:32.735589Z",
     "iopub.status.busy": "2024-04-29T07:47:32.735179Z",
     "iopub.status.idle": "2024-04-29T07:47:32.755555Z",
     "shell.execute_reply": "2024-04-29T07:47:32.754377Z"
    },
    "papermill": {
     "duration": 0.038869,
     "end_time": "2024-04-29T07:47:32.758186",
     "exception": false,
     "start_time": "2024-04-29T07:47:32.719317",
     "status": "completed"
    },
    "tags": []
   },
   "outputs": [
    {
     "data": {
      "text/html": [
       "<div>\n",
       "<style scoped>\n",
       "    .dataframe tbody tr th:only-of-type {\n",
       "        vertical-align: middle;\n",
       "    }\n",
       "\n",
       "    .dataframe tbody tr th {\n",
       "        vertical-align: top;\n",
       "    }\n",
       "\n",
       "    .dataframe thead th {\n",
       "        text-align: right;\n",
       "    }\n",
       "</style>\n",
       "<table border=\"1\" class=\"dataframe\">\n",
       "  <thead>\n",
       "    <tr style=\"text-align: right;\">\n",
       "      <th></th>\n",
       "      <th>Person ID</th>\n",
       "      <th>Gender</th>\n",
       "      <th>Age</th>\n",
       "      <th>Occupation</th>\n",
       "      <th>Sleep Duration</th>\n",
       "      <th>Quality of Sleep</th>\n",
       "      <th>Physical Activity Level</th>\n",
       "      <th>Stress Level</th>\n",
       "      <th>BMI Category</th>\n",
       "      <th>Heart Rate</th>\n",
       "      <th>Daily Steps</th>\n",
       "      <th>Sleep Disorder</th>\n",
       "      <th>BloodPressure_Upper</th>\n",
       "      <th>BloodPressure_Lower</th>\n",
       "    </tr>\n",
       "  </thead>\n",
       "  <tbody>\n",
       "    <tr>\n",
       "      <th>0</th>\n",
       "      <td>1</td>\n",
       "      <td>1</td>\n",
       "      <td>27</td>\n",
       "      <td>9</td>\n",
       "      <td>6.1</td>\n",
       "      <td>6</td>\n",
       "      <td>42</td>\n",
       "      <td>6</td>\n",
       "      <td>3</td>\n",
       "      <td>77</td>\n",
       "      <td>4200</td>\n",
       "      <td>2</td>\n",
       "      <td>126.0</td>\n",
       "      <td>83.0</td>\n",
       "    </tr>\n",
       "    <tr>\n",
       "      <th>1</th>\n",
       "      <td>2</td>\n",
       "      <td>1</td>\n",
       "      <td>28</td>\n",
       "      <td>1</td>\n",
       "      <td>6.2</td>\n",
       "      <td>6</td>\n",
       "      <td>60</td>\n",
       "      <td>8</td>\n",
       "      <td>0</td>\n",
       "      <td>75</td>\n",
       "      <td>10000</td>\n",
       "      <td>2</td>\n",
       "      <td>125.0</td>\n",
       "      <td>80.0</td>\n",
       "    </tr>\n",
       "    <tr>\n",
       "      <th>2</th>\n",
       "      <td>3</td>\n",
       "      <td>1</td>\n",
       "      <td>28</td>\n",
       "      <td>1</td>\n",
       "      <td>6.2</td>\n",
       "      <td>6</td>\n",
       "      <td>60</td>\n",
       "      <td>8</td>\n",
       "      <td>0</td>\n",
       "      <td>75</td>\n",
       "      <td>10000</td>\n",
       "      <td>2</td>\n",
       "      <td>125.0</td>\n",
       "      <td>80.0</td>\n",
       "    </tr>\n",
       "    <tr>\n",
       "      <th>3</th>\n",
       "      <td>4</td>\n",
       "      <td>1</td>\n",
       "      <td>28</td>\n",
       "      <td>6</td>\n",
       "      <td>5.9</td>\n",
       "      <td>4</td>\n",
       "      <td>30</td>\n",
       "      <td>8</td>\n",
       "      <td>2</td>\n",
       "      <td>85</td>\n",
       "      <td>3000</td>\n",
       "      <td>1</td>\n",
       "      <td>140.0</td>\n",
       "      <td>90.0</td>\n",
       "    </tr>\n",
       "    <tr>\n",
       "      <th>4</th>\n",
       "      <td>5</td>\n",
       "      <td>1</td>\n",
       "      <td>28</td>\n",
       "      <td>6</td>\n",
       "      <td>5.9</td>\n",
       "      <td>4</td>\n",
       "      <td>30</td>\n",
       "      <td>8</td>\n",
       "      <td>2</td>\n",
       "      <td>85</td>\n",
       "      <td>3000</td>\n",
       "      <td>1</td>\n",
       "      <td>140.0</td>\n",
       "      <td>90.0</td>\n",
       "    </tr>\n",
       "    <tr>\n",
       "      <th>...</th>\n",
       "      <td>...</td>\n",
       "      <td>...</td>\n",
       "      <td>...</td>\n",
       "      <td>...</td>\n",
       "      <td>...</td>\n",
       "      <td>...</td>\n",
       "      <td>...</td>\n",
       "      <td>...</td>\n",
       "      <td>...</td>\n",
       "      <td>...</td>\n",
       "      <td>...</td>\n",
       "      <td>...</td>\n",
       "      <td>...</td>\n",
       "      <td>...</td>\n",
       "    </tr>\n",
       "    <tr>\n",
       "      <th>369</th>\n",
       "      <td>370</td>\n",
       "      <td>0</td>\n",
       "      <td>59</td>\n",
       "      <td>5</td>\n",
       "      <td>8.1</td>\n",
       "      <td>9</td>\n",
       "      <td>75</td>\n",
       "      <td>3</td>\n",
       "      <td>3</td>\n",
       "      <td>68</td>\n",
       "      <td>7000</td>\n",
       "      <td>1</td>\n",
       "      <td>140.0</td>\n",
       "      <td>95.0</td>\n",
       "    </tr>\n",
       "    <tr>\n",
       "      <th>370</th>\n",
       "      <td>371</td>\n",
       "      <td>0</td>\n",
       "      <td>59</td>\n",
       "      <td>5</td>\n",
       "      <td>8.0</td>\n",
       "      <td>9</td>\n",
       "      <td>75</td>\n",
       "      <td>3</td>\n",
       "      <td>3</td>\n",
       "      <td>68</td>\n",
       "      <td>7000</td>\n",
       "      <td>1</td>\n",
       "      <td>140.0</td>\n",
       "      <td>95.0</td>\n",
       "    </tr>\n",
       "    <tr>\n",
       "      <th>371</th>\n",
       "      <td>372</td>\n",
       "      <td>0</td>\n",
       "      <td>59</td>\n",
       "      <td>5</td>\n",
       "      <td>8.1</td>\n",
       "      <td>9</td>\n",
       "      <td>75</td>\n",
       "      <td>3</td>\n",
       "      <td>3</td>\n",
       "      <td>68</td>\n",
       "      <td>7000</td>\n",
       "      <td>1</td>\n",
       "      <td>140.0</td>\n",
       "      <td>95.0</td>\n",
       "    </tr>\n",
       "    <tr>\n",
       "      <th>372</th>\n",
       "      <td>373</td>\n",
       "      <td>0</td>\n",
       "      <td>59</td>\n",
       "      <td>5</td>\n",
       "      <td>8.1</td>\n",
       "      <td>9</td>\n",
       "      <td>75</td>\n",
       "      <td>3</td>\n",
       "      <td>3</td>\n",
       "      <td>68</td>\n",
       "      <td>7000</td>\n",
       "      <td>1</td>\n",
       "      <td>140.0</td>\n",
       "      <td>95.0</td>\n",
       "    </tr>\n",
       "    <tr>\n",
       "      <th>373</th>\n",
       "      <td>374</td>\n",
       "      <td>0</td>\n",
       "      <td>59</td>\n",
       "      <td>5</td>\n",
       "      <td>8.1</td>\n",
       "      <td>9</td>\n",
       "      <td>75</td>\n",
       "      <td>3</td>\n",
       "      <td>3</td>\n",
       "      <td>68</td>\n",
       "      <td>7000</td>\n",
       "      <td>1</td>\n",
       "      <td>140.0</td>\n",
       "      <td>95.0</td>\n",
       "    </tr>\n",
       "  </tbody>\n",
       "</table>\n",
       "<p>374 rows × 14 columns</p>\n",
       "</div>"
      ],
      "text/plain": [
       "     Person ID  Gender  Age  Occupation  Sleep Duration  Quality of Sleep  \\\n",
       "0            1       1   27           9             6.1                 6   \n",
       "1            2       1   28           1             6.2                 6   \n",
       "2            3       1   28           1             6.2                 6   \n",
       "3            4       1   28           6             5.9                 4   \n",
       "4            5       1   28           6             5.9                 4   \n",
       "..         ...     ...  ...         ...             ...               ...   \n",
       "369        370       0   59           5             8.1                 9   \n",
       "370        371       0   59           5             8.0                 9   \n",
       "371        372       0   59           5             8.1                 9   \n",
       "372        373       0   59           5             8.1                 9   \n",
       "373        374       0   59           5             8.1                 9   \n",
       "\n",
       "     Physical Activity Level  Stress Level  BMI Category  Heart Rate  \\\n",
       "0                         42             6             3          77   \n",
       "1                         60             8             0          75   \n",
       "2                         60             8             0          75   \n",
       "3                         30             8             2          85   \n",
       "4                         30             8             2          85   \n",
       "..                       ...           ...           ...         ...   \n",
       "369                       75             3             3          68   \n",
       "370                       75             3             3          68   \n",
       "371                       75             3             3          68   \n",
       "372                       75             3             3          68   \n",
       "373                       75             3             3          68   \n",
       "\n",
       "     Daily Steps  Sleep Disorder  BloodPressure_Upper  BloodPressure_Lower  \n",
       "0           4200               2                126.0                 83.0  \n",
       "1          10000               2                125.0                 80.0  \n",
       "2          10000               2                125.0                 80.0  \n",
       "3           3000               1                140.0                 90.0  \n",
       "4           3000               1                140.0                 90.0  \n",
       "..           ...             ...                  ...                  ...  \n",
       "369         7000               1                140.0                 95.0  \n",
       "370         7000               1                140.0                 95.0  \n",
       "371         7000               1                140.0                 95.0  \n",
       "372         7000               1                140.0                 95.0  \n",
       "373         7000               1                140.0                 95.0  \n",
       "\n",
       "[374 rows x 14 columns]"
      ]
     },
     "execution_count": 27,
     "metadata": {},
     "output_type": "execute_result"
    }
   ],
   "source": [
    "df"
   ]
  },
  {
   "cell_type": "markdown",
   "id": "24f0e17a",
   "metadata": {
    "papermill": {
     "duration": 0.014719,
     "end_time": "2024-04-29T07:47:32.788426",
     "exception": false,
     "start_time": "2024-04-29T07:47:32.773707",
     "status": "completed"
    },
    "tags": []
   },
   "source": [
    "> # Step2. Model Training"
   ]
  },
  {
   "cell_type": "code",
   "execution_count": 28,
   "id": "9546b353",
   "metadata": {
    "execution": {
     "iopub.execute_input": "2024-04-29T07:47:32.820848Z",
     "iopub.status.busy": "2024-04-29T07:47:32.820463Z",
     "iopub.status.idle": "2024-04-29T07:47:33.204889Z",
     "shell.execute_reply": "2024-04-29T07:47:33.203628Z"
    },
    "papermill": {
     "duration": 0.40344,
     "end_time": "2024-04-29T07:47:33.207507",
     "exception": false,
     "start_time": "2024-04-29T07:47:32.804067",
     "status": "completed"
    },
    "tags": []
   },
   "outputs": [],
   "source": [
    "from sklearn.model_selection import train_test_split\n",
    "from sklearn.preprocessing import StandardScaler\n",
    "from sklearn.linear_model import LogisticRegression\n",
    "from sklearn.ensemble import RandomForestClassifier, GradientBoostingClassifier\n",
    "\n",
    "# Metrics\n",
    "from sklearn.metrics import accuracy_score, precision_score, recall_score, f1_score, classification_report\n",
    "from sklearn.metrics import roc_curve, auc\n",
    "\n",
    "# Prepare the data\n",
    "X = df.drop(['Person ID', 'Sleep Disorder'], axis=1)\n",
    "y = df['Sleep Disorder']\n",
    "\n",
    "# Split the data into train and test sets\n",
    "X_train, X_test, y_train, y_test = train_test_split(X, y, test_size=0.2, random_state=2)"
   ]
  },
  {
   "cell_type": "code",
   "execution_count": 46,
   "id": "e4e66726",
   "metadata": {},
   "outputs": [
    {
     "name": "stdout",
     "output_type": "stream",
     "text": [
      "     Gender  Age  Occupation  Sleep Duration  Quality of Sleep  \\\n",
      "225       1   44           7             6.3                 6   \n",
      "100       0   36          10             7.2                 8   \n",
      "270       0   49           5             6.1                 6   \n",
      "108       1   37           2             7.8                 8   \n",
      "324       0   53           2             8.3                 9   \n",
      "..      ...  ...         ...             ...               ...   \n",
      "299       0   51           2             8.5                 9   \n",
      "22        1   30           1             7.7                 7   \n",
      "72        1   33           1             6.1                 6   \n",
      "15        1   29           1             6.0                 6   \n",
      "168       1   41           3             7.1                 7   \n",
      "\n",
      "     Physical Activity Level  Stress Level  BMI Category  Heart Rate  \\\n",
      "225                       45             7             3          72   \n",
      "100                       60             4             0          68   \n",
      "270                       90             8             3          75   \n",
      "108                       70             4             1          68   \n",
      "324                       30             3             0          65   \n",
      "..                       ...           ...           ...         ...   \n",
      "299                       30             3             0          65   \n",
      "22                        75             6             0          70   \n",
      "72                        30             8             0          72   \n",
      "15                        30             8             0          70   \n",
      "168                       55             6             3          72   \n",
      "\n",
      "     Daily Steps  BloodPressure_Upper  BloodPressure_Lower  \n",
      "225         6000                130.0                 85.0  \n",
      "100         7000                115.0                 75.0  \n",
      "270        10000                140.0                 95.0  \n",
      "108         7000                120.0                 80.0  \n",
      "324         5000                125.0                 80.0  \n",
      "..           ...                  ...                  ...  \n",
      "299         5000                125.0                 80.0  \n",
      "22          8000                120.0                 80.0  \n",
      "72          5000                125.0                 80.0  \n",
      "15          8000                120.0                 80.0  \n",
      "168         6000                125.0                 82.0  \n",
      "\n",
      "[299 rows x 12 columns] 225    0\n",
      "100    2\n",
      "270    1\n",
      "108    2\n",
      "324    2\n",
      "      ..\n",
      "299    2\n",
      "22     2\n",
      "72     2\n",
      "15     2\n",
      "168    2\n",
      "Name: Sleep Disorder, Length: 299, dtype: int32\n"
     ]
    }
   ],
   "source": [
    "print(X_train, y_train)"
   ]
  },
  {
   "cell_type": "code",
   "execution_count": 29,
   "id": "2f0eac19",
   "metadata": {
    "execution": {
     "iopub.execute_input": "2024-04-29T07:47:33.240387Z",
     "iopub.status.busy": "2024-04-29T07:47:33.239915Z",
     "iopub.status.idle": "2024-04-29T07:47:33.279657Z",
     "shell.execute_reply": "2024-04-29T07:47:33.278562Z"
    },
    "papermill": {
     "duration": 0.058617,
     "end_time": "2024-04-29T07:47:33.281775",
     "exception": false,
     "start_time": "2024-04-29T07:47:33.223158",
     "status": "completed"
    },
    "tags": []
   },
   "outputs": [
    {
     "data": {
      "text/html": [
       "<style>#sk-container-id-1 {\n",
       "  /* Definition of color scheme common for light and dark mode */\n",
       "  --sklearn-color-text: black;\n",
       "  --sklearn-color-line: gray;\n",
       "  /* Definition of color scheme for unfitted estimators */\n",
       "  --sklearn-color-unfitted-level-0: #fff5e6;\n",
       "  --sklearn-color-unfitted-level-1: #f6e4d2;\n",
       "  --sklearn-color-unfitted-level-2: #ffe0b3;\n",
       "  --sklearn-color-unfitted-level-3: chocolate;\n",
       "  /* Definition of color scheme for fitted estimators */\n",
       "  --sklearn-color-fitted-level-0: #f0f8ff;\n",
       "  --sklearn-color-fitted-level-1: #d4ebff;\n",
       "  --sklearn-color-fitted-level-2: #b3dbfd;\n",
       "  --sklearn-color-fitted-level-3: cornflowerblue;\n",
       "\n",
       "  /* Specific color for light theme */\n",
       "  --sklearn-color-text-on-default-background: var(--sg-text-color, var(--theme-code-foreground, var(--jp-content-font-color1, black)));\n",
       "  --sklearn-color-background: var(--sg-background-color, var(--theme-background, var(--jp-layout-color0, white)));\n",
       "  --sklearn-color-border-box: var(--sg-text-color, var(--theme-code-foreground, var(--jp-content-font-color1, black)));\n",
       "  --sklearn-color-icon: #696969;\n",
       "\n",
       "  @media (prefers-color-scheme: dark) {\n",
       "    /* Redefinition of color scheme for dark theme */\n",
       "    --sklearn-color-text-on-default-background: var(--sg-text-color, var(--theme-code-foreground, var(--jp-content-font-color1, white)));\n",
       "    --sklearn-color-background: var(--sg-background-color, var(--theme-background, var(--jp-layout-color0, #111)));\n",
       "    --sklearn-color-border-box: var(--sg-text-color, var(--theme-code-foreground, var(--jp-content-font-color1, white)));\n",
       "    --sklearn-color-icon: #878787;\n",
       "  }\n",
       "}\n",
       "\n",
       "#sk-container-id-1 {\n",
       "  color: var(--sklearn-color-text);\n",
       "}\n",
       "\n",
       "#sk-container-id-1 pre {\n",
       "  padding: 0;\n",
       "}\n",
       "\n",
       "#sk-container-id-1 input.sk-hidden--visually {\n",
       "  border: 0;\n",
       "  clip: rect(1px 1px 1px 1px);\n",
       "  clip: rect(1px, 1px, 1px, 1px);\n",
       "  height: 1px;\n",
       "  margin: -1px;\n",
       "  overflow: hidden;\n",
       "  padding: 0;\n",
       "  position: absolute;\n",
       "  width: 1px;\n",
       "}\n",
       "\n",
       "#sk-container-id-1 div.sk-dashed-wrapped {\n",
       "  border: 1px dashed var(--sklearn-color-line);\n",
       "  margin: 0 0.4em 0.5em 0.4em;\n",
       "  box-sizing: border-box;\n",
       "  padding-bottom: 0.4em;\n",
       "  background-color: var(--sklearn-color-background);\n",
       "}\n",
       "\n",
       "#sk-container-id-1 div.sk-container {\n",
       "  /* jupyter's `normalize.less` sets `[hidden] { display: none; }`\n",
       "     but bootstrap.min.css set `[hidden] { display: none !important; }`\n",
       "     so we also need the `!important` here to be able to override the\n",
       "     default hidden behavior on the sphinx rendered scikit-learn.org.\n",
       "     See: https://github.com/scikit-learn/scikit-learn/issues/21755 */\n",
       "  display: inline-block !important;\n",
       "  position: relative;\n",
       "}\n",
       "\n",
       "#sk-container-id-1 div.sk-text-repr-fallback {\n",
       "  display: none;\n",
       "}\n",
       "\n",
       "div.sk-parallel-item,\n",
       "div.sk-serial,\n",
       "div.sk-item {\n",
       "  /* draw centered vertical line to link estimators */\n",
       "  background-image: linear-gradient(var(--sklearn-color-text-on-default-background), var(--sklearn-color-text-on-default-background));\n",
       "  background-size: 2px 100%;\n",
       "  background-repeat: no-repeat;\n",
       "  background-position: center center;\n",
       "}\n",
       "\n",
       "/* Parallel-specific style estimator block */\n",
       "\n",
       "#sk-container-id-1 div.sk-parallel-item::after {\n",
       "  content: \"\";\n",
       "  width: 100%;\n",
       "  border-bottom: 2px solid var(--sklearn-color-text-on-default-background);\n",
       "  flex-grow: 1;\n",
       "}\n",
       "\n",
       "#sk-container-id-1 div.sk-parallel {\n",
       "  display: flex;\n",
       "  align-items: stretch;\n",
       "  justify-content: center;\n",
       "  background-color: var(--sklearn-color-background);\n",
       "  position: relative;\n",
       "}\n",
       "\n",
       "#sk-container-id-1 div.sk-parallel-item {\n",
       "  display: flex;\n",
       "  flex-direction: column;\n",
       "}\n",
       "\n",
       "#sk-container-id-1 div.sk-parallel-item:first-child::after {\n",
       "  align-self: flex-end;\n",
       "  width: 50%;\n",
       "}\n",
       "\n",
       "#sk-container-id-1 div.sk-parallel-item:last-child::after {\n",
       "  align-self: flex-start;\n",
       "  width: 50%;\n",
       "}\n",
       "\n",
       "#sk-container-id-1 div.sk-parallel-item:only-child::after {\n",
       "  width: 0;\n",
       "}\n",
       "\n",
       "/* Serial-specific style estimator block */\n",
       "\n",
       "#sk-container-id-1 div.sk-serial {\n",
       "  display: flex;\n",
       "  flex-direction: column;\n",
       "  align-items: center;\n",
       "  background-color: var(--sklearn-color-background);\n",
       "  padding-right: 1em;\n",
       "  padding-left: 1em;\n",
       "}\n",
       "\n",
       "\n",
       "/* Toggleable style: style used for estimator/Pipeline/ColumnTransformer box that is\n",
       "clickable and can be expanded/collapsed.\n",
       "- Pipeline and ColumnTransformer use this feature and define the default style\n",
       "- Estimators will overwrite some part of the style using the `sk-estimator` class\n",
       "*/\n",
       "\n",
       "/* Pipeline and ColumnTransformer style (default) */\n",
       "\n",
       "#sk-container-id-1 div.sk-toggleable {\n",
       "  /* Default theme specific background. It is overwritten whether we have a\n",
       "  specific estimator or a Pipeline/ColumnTransformer */\n",
       "  background-color: var(--sklearn-color-background);\n",
       "}\n",
       "\n",
       "/* Toggleable label */\n",
       "#sk-container-id-1 label.sk-toggleable__label {\n",
       "  cursor: pointer;\n",
       "  display: block;\n",
       "  width: 100%;\n",
       "  margin-bottom: 0;\n",
       "  padding: 0.5em;\n",
       "  box-sizing: border-box;\n",
       "  text-align: center;\n",
       "}\n",
       "\n",
       "#sk-container-id-1 label.sk-toggleable__label-arrow:before {\n",
       "  /* Arrow on the left of the label */\n",
       "  content: \"▸\";\n",
       "  float: left;\n",
       "  margin-right: 0.25em;\n",
       "  color: var(--sklearn-color-icon);\n",
       "}\n",
       "\n",
       "#sk-container-id-1 label.sk-toggleable__label-arrow:hover:before {\n",
       "  color: var(--sklearn-color-text);\n",
       "}\n",
       "\n",
       "/* Toggleable content - dropdown */\n",
       "\n",
       "#sk-container-id-1 div.sk-toggleable__content {\n",
       "  max-height: 0;\n",
       "  max-width: 0;\n",
       "  overflow: hidden;\n",
       "  text-align: left;\n",
       "  /* unfitted */\n",
       "  background-color: var(--sklearn-color-unfitted-level-0);\n",
       "}\n",
       "\n",
       "#sk-container-id-1 div.sk-toggleable__content.fitted {\n",
       "  /* fitted */\n",
       "  background-color: var(--sklearn-color-fitted-level-0);\n",
       "}\n",
       "\n",
       "#sk-container-id-1 div.sk-toggleable__content pre {\n",
       "  margin: 0.2em;\n",
       "  border-radius: 0.25em;\n",
       "  color: var(--sklearn-color-text);\n",
       "  /* unfitted */\n",
       "  background-color: var(--sklearn-color-unfitted-level-0);\n",
       "}\n",
       "\n",
       "#sk-container-id-1 div.sk-toggleable__content.fitted pre {\n",
       "  /* unfitted */\n",
       "  background-color: var(--sklearn-color-fitted-level-0);\n",
       "}\n",
       "\n",
       "#sk-container-id-1 input.sk-toggleable__control:checked~div.sk-toggleable__content {\n",
       "  /* Expand drop-down */\n",
       "  max-height: 200px;\n",
       "  max-width: 100%;\n",
       "  overflow: auto;\n",
       "}\n",
       "\n",
       "#sk-container-id-1 input.sk-toggleable__control:checked~label.sk-toggleable__label-arrow:before {\n",
       "  content: \"▾\";\n",
       "}\n",
       "\n",
       "/* Pipeline/ColumnTransformer-specific style */\n",
       "\n",
       "#sk-container-id-1 div.sk-label input.sk-toggleable__control:checked~label.sk-toggleable__label {\n",
       "  color: var(--sklearn-color-text);\n",
       "  background-color: var(--sklearn-color-unfitted-level-2);\n",
       "}\n",
       "\n",
       "#sk-container-id-1 div.sk-label.fitted input.sk-toggleable__control:checked~label.sk-toggleable__label {\n",
       "  background-color: var(--sklearn-color-fitted-level-2);\n",
       "}\n",
       "\n",
       "/* Estimator-specific style */\n",
       "\n",
       "/* Colorize estimator box */\n",
       "#sk-container-id-1 div.sk-estimator input.sk-toggleable__control:checked~label.sk-toggleable__label {\n",
       "  /* unfitted */\n",
       "  background-color: var(--sklearn-color-unfitted-level-2);\n",
       "}\n",
       "\n",
       "#sk-container-id-1 div.sk-estimator.fitted input.sk-toggleable__control:checked~label.sk-toggleable__label {\n",
       "  /* fitted */\n",
       "  background-color: var(--sklearn-color-fitted-level-2);\n",
       "}\n",
       "\n",
       "#sk-container-id-1 div.sk-label label.sk-toggleable__label,\n",
       "#sk-container-id-1 div.sk-label label {\n",
       "  /* The background is the default theme color */\n",
       "  color: var(--sklearn-color-text-on-default-background);\n",
       "}\n",
       "\n",
       "/* On hover, darken the color of the background */\n",
       "#sk-container-id-1 div.sk-label:hover label.sk-toggleable__label {\n",
       "  color: var(--sklearn-color-text);\n",
       "  background-color: var(--sklearn-color-unfitted-level-2);\n",
       "}\n",
       "\n",
       "/* Label box, darken color on hover, fitted */\n",
       "#sk-container-id-1 div.sk-label.fitted:hover label.sk-toggleable__label.fitted {\n",
       "  color: var(--sklearn-color-text);\n",
       "  background-color: var(--sklearn-color-fitted-level-2);\n",
       "}\n",
       "\n",
       "/* Estimator label */\n",
       "\n",
       "#sk-container-id-1 div.sk-label label {\n",
       "  font-family: monospace;\n",
       "  font-weight: bold;\n",
       "  display: inline-block;\n",
       "  line-height: 1.2em;\n",
       "}\n",
       "\n",
       "#sk-container-id-1 div.sk-label-container {\n",
       "  text-align: center;\n",
       "}\n",
       "\n",
       "/* Estimator-specific */\n",
       "#sk-container-id-1 div.sk-estimator {\n",
       "  font-family: monospace;\n",
       "  border: 1px dotted var(--sklearn-color-border-box);\n",
       "  border-radius: 0.25em;\n",
       "  box-sizing: border-box;\n",
       "  margin-bottom: 0.5em;\n",
       "  /* unfitted */\n",
       "  background-color: var(--sklearn-color-unfitted-level-0);\n",
       "}\n",
       "\n",
       "#sk-container-id-1 div.sk-estimator.fitted {\n",
       "  /* fitted */\n",
       "  background-color: var(--sklearn-color-fitted-level-0);\n",
       "}\n",
       "\n",
       "/* on hover */\n",
       "#sk-container-id-1 div.sk-estimator:hover {\n",
       "  /* unfitted */\n",
       "  background-color: var(--sklearn-color-unfitted-level-2);\n",
       "}\n",
       "\n",
       "#sk-container-id-1 div.sk-estimator.fitted:hover {\n",
       "  /* fitted */\n",
       "  background-color: var(--sklearn-color-fitted-level-2);\n",
       "}\n",
       "\n",
       "/* Specification for estimator info (e.g. \"i\" and \"?\") */\n",
       "\n",
       "/* Common style for \"i\" and \"?\" */\n",
       "\n",
       ".sk-estimator-doc-link,\n",
       "a:link.sk-estimator-doc-link,\n",
       "a:visited.sk-estimator-doc-link {\n",
       "  float: right;\n",
       "  font-size: smaller;\n",
       "  line-height: 1em;\n",
       "  font-family: monospace;\n",
       "  background-color: var(--sklearn-color-background);\n",
       "  border-radius: 1em;\n",
       "  height: 1em;\n",
       "  width: 1em;\n",
       "  text-decoration: none !important;\n",
       "  margin-left: 1ex;\n",
       "  /* unfitted */\n",
       "  border: var(--sklearn-color-unfitted-level-1) 1pt solid;\n",
       "  color: var(--sklearn-color-unfitted-level-1);\n",
       "}\n",
       "\n",
       ".sk-estimator-doc-link.fitted,\n",
       "a:link.sk-estimator-doc-link.fitted,\n",
       "a:visited.sk-estimator-doc-link.fitted {\n",
       "  /* fitted */\n",
       "  border: var(--sklearn-color-fitted-level-1) 1pt solid;\n",
       "  color: var(--sklearn-color-fitted-level-1);\n",
       "}\n",
       "\n",
       "/* On hover */\n",
       "div.sk-estimator:hover .sk-estimator-doc-link:hover,\n",
       ".sk-estimator-doc-link:hover,\n",
       "div.sk-label-container:hover .sk-estimator-doc-link:hover,\n",
       ".sk-estimator-doc-link:hover {\n",
       "  /* unfitted */\n",
       "  background-color: var(--sklearn-color-unfitted-level-3);\n",
       "  color: var(--sklearn-color-background);\n",
       "  text-decoration: none;\n",
       "}\n",
       "\n",
       "div.sk-estimator.fitted:hover .sk-estimator-doc-link.fitted:hover,\n",
       ".sk-estimator-doc-link.fitted:hover,\n",
       "div.sk-label-container:hover .sk-estimator-doc-link.fitted:hover,\n",
       ".sk-estimator-doc-link.fitted:hover {\n",
       "  /* fitted */\n",
       "  background-color: var(--sklearn-color-fitted-level-3);\n",
       "  color: var(--sklearn-color-background);\n",
       "  text-decoration: none;\n",
       "}\n",
       "\n",
       "/* Span, style for the box shown on hovering the info icon */\n",
       ".sk-estimator-doc-link span {\n",
       "  display: none;\n",
       "  z-index: 9999;\n",
       "  position: relative;\n",
       "  font-weight: normal;\n",
       "  right: .2ex;\n",
       "  padding: .5ex;\n",
       "  margin: .5ex;\n",
       "  width: min-content;\n",
       "  min-width: 20ex;\n",
       "  max-width: 50ex;\n",
       "  color: var(--sklearn-color-text);\n",
       "  box-shadow: 2pt 2pt 4pt #999;\n",
       "  /* unfitted */\n",
       "  background: var(--sklearn-color-unfitted-level-0);\n",
       "  border: .5pt solid var(--sklearn-color-unfitted-level-3);\n",
       "}\n",
       "\n",
       ".sk-estimator-doc-link.fitted span {\n",
       "  /* fitted */\n",
       "  background: var(--sklearn-color-fitted-level-0);\n",
       "  border: var(--sklearn-color-fitted-level-3);\n",
       "}\n",
       "\n",
       ".sk-estimator-doc-link:hover span {\n",
       "  display: block;\n",
       "}\n",
       "\n",
       "/* \"?\"-specific style due to the `<a>` HTML tag */\n",
       "\n",
       "#sk-container-id-1 a.estimator_doc_link {\n",
       "  float: right;\n",
       "  font-size: 1rem;\n",
       "  line-height: 1em;\n",
       "  font-family: monospace;\n",
       "  background-color: var(--sklearn-color-background);\n",
       "  border-radius: 1rem;\n",
       "  height: 1rem;\n",
       "  width: 1rem;\n",
       "  text-decoration: none;\n",
       "  /* unfitted */\n",
       "  color: var(--sklearn-color-unfitted-level-1);\n",
       "  border: var(--sklearn-color-unfitted-level-1) 1pt solid;\n",
       "}\n",
       "\n",
       "#sk-container-id-1 a.estimator_doc_link.fitted {\n",
       "  /* fitted */\n",
       "  border: var(--sklearn-color-fitted-level-1) 1pt solid;\n",
       "  color: var(--sklearn-color-fitted-level-1);\n",
       "}\n",
       "\n",
       "/* On hover */\n",
       "#sk-container-id-1 a.estimator_doc_link:hover {\n",
       "  /* unfitted */\n",
       "  background-color: var(--sklearn-color-unfitted-level-3);\n",
       "  color: var(--sklearn-color-background);\n",
       "  text-decoration: none;\n",
       "}\n",
       "\n",
       "#sk-container-id-1 a.estimator_doc_link.fitted:hover {\n",
       "  /* fitted */\n",
       "  background-color: var(--sklearn-color-fitted-level-3);\n",
       "}\n",
       "</style><div id=\"sk-container-id-1\" class=\"sk-top-container\"><div class=\"sk-text-repr-fallback\"><pre>LogisticRegression()</pre><b>In a Jupyter environment, please rerun this cell to show the HTML representation or trust the notebook. <br />On GitHub, the HTML representation is unable to render, please try loading this page with nbviewer.org.</b></div><div class=\"sk-container\" hidden><div class=\"sk-item\"><div class=\"sk-estimator fitted sk-toggleable\"><input class=\"sk-toggleable__control sk-hidden--visually\" id=\"sk-estimator-id-1\" type=\"checkbox\" checked><label for=\"sk-estimator-id-1\" class=\"sk-toggleable__label fitted sk-toggleable__label-arrow fitted\">&nbsp;&nbsp;LogisticRegression<a class=\"sk-estimator-doc-link fitted\" rel=\"noreferrer\" target=\"_blank\" href=\"https://scikit-learn.org/1.5/modules/generated/sklearn.linear_model.LogisticRegression.html\">?<span>Documentation for LogisticRegression</span></a><span class=\"sk-estimator-doc-link fitted\">i<span>Fitted</span></span></label><div class=\"sk-toggleable__content fitted\"><pre>LogisticRegression()</pre></div> </div></div></div></div>"
      ],
      "text/plain": [
       "LogisticRegression()"
      ]
     },
     "execution_count": 29,
     "metadata": {},
     "output_type": "execute_result"
    }
   ],
   "source": [
    "# Create the models\n",
    "lr_d = LogisticRegression()\n",
    "\n",
    "# Fit the models\n",
    "lr_d.fit(X_train, y_train)"
   ]
  },
  {
   "cell_type": "markdown",
   "id": "37ad045b",
   "metadata": {
    "papermill": {
     "duration": 0.015007,
     "end_time": "2024-04-29T07:47:33.312239",
     "exception": false,
     "start_time": "2024-04-29T07:47:33.297232",
     "status": "completed"
    },
    "tags": []
   },
   "source": [
    "> # Step3. Prediction and Report"
   ]
  },
  {
   "cell_type": "code",
   "execution_count": null,
   "id": "09013fee",
   "metadata": {
    "execution": {
     "iopub.execute_input": "2024-04-29T07:47:33.345319Z",
     "iopub.status.busy": "2024-04-29T07:47:33.344875Z",
     "iopub.status.idle": "2024-04-29T07:47:33.352485Z",
     "shell.execute_reply": "2024-04-29T07:47:33.351357Z"
    },
    "papermill": {
     "duration": 0.026727,
     "end_time": "2024-04-29T07:47:33.354840",
     "exception": false,
     "start_time": "2024-04-29T07:47:33.328113",
     "status": "completed"
    },
    "tags": []
   },
   "outputs": [
    {
     "ename": "NameError",
     "evalue": "name 'px' is not defined",
     "output_type": "error",
     "traceback": [
      "\u001b[1;31m---------------------------------------------------------------------------\u001b[0m",
      "\u001b[1;31mNameError\u001b[0m                                 Traceback (most recent call last)",
      "Cell \u001b[1;32mIn[31], line 3\u001b[0m\n\u001b[0;32m      1\u001b[0m \u001b[38;5;28;01mfrom\u001b[39;00m \u001b[38;5;21;01msklearn\u001b[39;00m\u001b[38;5;21;01m.\u001b[39;00m\u001b[38;5;21;01mmetrics\u001b[39;00m \u001b[38;5;28;01mimport\u001b[39;00m accuracy_score\n\u001b[0;32m      2\u001b[0m \u001b[38;5;66;03m#import plotly.express as px\u001b[39;00m\n\u001b[1;32m----> 3\u001b[0m colors \u001b[38;5;241m=\u001b[39m \u001b[43mpx\u001b[49m\u001b[38;5;241m.\u001b[39mcolors\u001b[38;5;241m.\u001b[39msequential\u001b[38;5;241m.\u001b[39mPlasma_r\n\u001b[0;32m      5\u001b[0m \u001b[38;5;28;01mdef\u001b[39;00m \u001b[38;5;21mplot_classification_report\u001b[39m(report, title):\n\u001b[0;32m      6\u001b[0m     lines \u001b[38;5;241m=\u001b[39m report\u001b[38;5;241m.\u001b[39msplit(\u001b[38;5;124m'\u001b[39m\u001b[38;5;130;01m\\n\u001b[39;00m\u001b[38;5;124m'\u001b[39m)[\u001b[38;5;241m2\u001b[39m:\u001b[38;5;241m-\u001b[39m\u001b[38;5;241m5\u001b[39m]\n",
      "\u001b[1;31mNameError\u001b[0m: name 'px' is not defined"
     ]
    }
   ],
   "source": [
    "# from sklearn.metrics import accuracy_score\n",
    "# #import plotly.express as px\n",
    "# colors = px.colors.sequential.Plasma_r\n",
    "\n",
    "# def plot_classification_report(report, title):\n",
    "#     lines = report.split('\\n')[2:-5]\n",
    "#     classes = []\n",
    "#     precision = []\n",
    "#     recall = []\n",
    "#     f1_score = []\n",
    "#     support = []\n",
    "#     for line in lines:\n",
    "#         row_data = line.split()\n",
    "#         classes.append(row_data[0])\n",
    "#         precision.append(float(row_data[1]))\n",
    "#         recall.append(float(row_data[2]))\n",
    "#         f1_score.append(float(row_data[3]))\n",
    "#         support.append(int(row_data[4]))"
   ]
  },
  {
   "cell_type": "code",
   "execution_count": 32,
   "id": "edea1103",
   "metadata": {
    "execution": {
     "iopub.execute_input": "2024-04-29T07:47:33.387280Z",
     "iopub.status.busy": "2024-04-29T07:47:33.386531Z",
     "iopub.status.idle": "2024-04-29T07:47:33.393981Z",
     "shell.execute_reply": "2024-04-29T07:47:33.392775Z"
    },
    "papermill": {
     "duration": 0.026168,
     "end_time": "2024-04-29T07:47:33.396234",
     "exception": false,
     "start_time": "2024-04-29T07:47:33.370066",
     "status": "completed"
    },
    "tags": []
   },
   "outputs": [],
   "source": [
    "lr_pred_d = lr_d.predict(X_test)"
   ]
  },
  {
   "cell_type": "code",
   "execution_count": 35,
   "id": "01bdaccf",
   "metadata": {
    "execution": {
     "iopub.execute_input": "2024-04-29T07:47:33.428751Z",
     "iopub.status.busy": "2024-04-29T07:47:33.428380Z",
     "iopub.status.idle": "2024-04-29T07:47:33.443349Z",
     "shell.execute_reply": "2024-04-29T07:47:33.441917Z"
    },
    "papermill": {
     "duration": 0.033902,
     "end_time": "2024-04-29T07:47:33.445499",
     "exception": false,
     "start_time": "2024-04-29T07:47:33.411597",
     "status": "completed"
    },
    "tags": []
   },
   "outputs": [
    {
     "name": "stdout",
     "output_type": "stream",
     "text": [
      "[ Logistic Regression report ]\n",
      "\n",
      "              precision    recall  f1-score   support\n",
      "\n",
      "           0       0.93      0.87      0.90        15\n",
      "           1       0.88      0.83      0.86        18\n",
      "           2       0.91      0.95      0.93        42\n",
      "\n",
      "    accuracy                           0.91        75\n",
      "   macro avg       0.91      0.88      0.89        75\n",
      "weighted avg       0.91      0.91      0.91        75\n",
      "\n"
     ]
    }
   ],
   "source": [
    "# Classification reports for different algorithms\n",
    "lr_d_report = classification_report(y_test, lr_pred_d)\n",
    "\n",
    "# Plot classification reports\n",
    "print(\"[ Logistic Regression report ]\\n\")\n",
    "print(lr_d_report)\n",
    "#plot_classification_report(lr_d_report, \"Logistic Regression Classification Report Visualization\")"
   ]
  },
  {
   "cell_type": "markdown",
   "id": "a10e0d72",
   "metadata": {
    "papermill": {
     "duration": 0.0167,
     "end_time": "2024-04-29T07:47:33.477486",
     "exception": false,
     "start_time": "2024-04-29T07:47:33.460786",
     "status": "completed"
    },
    "tags": []
   },
   "source": [
    "# Version2. ML Comparison\n",
    "* Comp. Models : Logistic Regression, Random Forest, Gradient Boosting\n",
    "* Gradient Boosting Accuracy : 95%\n",
    "* Without EDA\n",
    "* Scaler : Standard Scaler"
   ]
  },
  {
   "cell_type": "code",
   "execution_count": 38,
   "id": "67de60f7",
   "metadata": {
    "execution": {
     "iopub.execute_input": "2024-04-29T07:47:33.510590Z",
     "iopub.status.busy": "2024-04-29T07:47:33.510229Z",
     "iopub.status.idle": "2024-04-29T07:47:34.054577Z",
     "shell.execute_reply": "2024-04-29T07:47:34.053396Z"
    },
    "papermill": {
     "duration": 0.563631,
     "end_time": "2024-04-29T07:47:34.057138",
     "exception": false,
     "start_time": "2024-04-29T07:47:33.493507",
     "status": "completed"
    },
    "tags": []
   },
   "outputs": [],
   "source": [
    "# Split the data into train and test sets\n",
    "X_train, X_test, y_train, y_test = train_test_split(X, y, test_size=0.2, random_state=2)\n",
    "\n",
    "scaler_d = StandardScaler()\n",
    "X_train_scaled = scaler_d.fit_transform(X_train)\n",
    "X_test_scaled = scaler_d.transform(X_test)\n",
    "\n",
    "\n",
    "# Create the models\n",
    "lr_d = LogisticRegression()\n",
    "rf_d = RandomForestClassifier()\n",
    "gb_d = GradientBoostingClassifier()\n",
    "\n",
    "# Fit the models\n",
    "lr_d.fit(X_train_scaled, y_train)\n",
    "rf_d.fit(X_train_scaled, y_train)\n",
    "gb_d.fit(X_train_scaled, y_train)\n",
    "\n",
    "lr_pred_d = lr_d.predict(X_test_scaled)\n",
    "rf_pred_d = rf_d.predict(X_test_scaled)\n",
    "gb_pred_d = gb_d.predict(X_test_scaled)"
   ]
  },
  {
   "cell_type": "code",
   "execution_count": 39,
   "id": "a0f03920",
   "metadata": {
    "execution": {
     "iopub.execute_input": "2024-04-29T07:47:34.091639Z",
     "iopub.status.busy": "2024-04-29T07:47:34.091220Z",
     "iopub.status.idle": "2024-04-29T07:47:34.106037Z",
     "shell.execute_reply": "2024-04-29T07:47:34.104082Z"
    },
    "papermill": {
     "duration": 0.035181,
     "end_time": "2024-04-29T07:47:34.108588",
     "exception": false,
     "start_time": "2024-04-29T07:47:34.073407",
     "status": "completed"
    },
    "tags": []
   },
   "outputs": [
    {
     "name": "stdout",
     "output_type": "stream",
     "text": [
      "[ Logistic Regression report ]\n",
      "\n",
      "              precision    recall  f1-score   support\n",
      "\n",
      "           0       0.93      0.87      0.90        15\n",
      "           1       0.88      0.83      0.86        18\n",
      "           2       0.91      0.95      0.93        42\n",
      "\n",
      "    accuracy                           0.91        75\n",
      "   macro avg       0.91      0.88      0.89        75\n",
      "weighted avg       0.91      0.91      0.91        75\n",
      "\n"
     ]
    }
   ],
   "source": [
    "lr_d_report = classification_report(y_test, lr_pred_d)\n",
    "\n",
    "# Plot classification reports\n",
    "print(\"[ Logistic Regression report ]\\n\")\n",
    "print(lr_d_report)\n",
    "#plot_classification_report(lr_d_report, \"Logistic Regression Classification Report\")"
   ]
  },
  {
   "cell_type": "code",
   "execution_count": 40,
   "id": "aebd7807",
   "metadata": {
    "execution": {
     "iopub.execute_input": "2024-04-29T07:47:34.142861Z",
     "iopub.status.busy": "2024-04-29T07:47:34.142137Z",
     "iopub.status.idle": "2024-04-29T07:47:34.155429Z",
     "shell.execute_reply": "2024-04-29T07:47:34.154025Z"
    },
    "papermill": {
     "duration": 0.032854,
     "end_time": "2024-04-29T07:47:34.157741",
     "exception": false,
     "start_time": "2024-04-29T07:47:34.124887",
     "status": "completed"
    },
    "tags": []
   },
   "outputs": [
    {
     "name": "stdout",
     "output_type": "stream",
     "text": [
      "[ Random forest report ]\n",
      "\n",
      "              precision    recall  f1-score   support\n",
      "\n",
      "           0       0.93      0.87      0.90        15\n",
      "           1       1.00      0.89      0.94        18\n",
      "           2       0.93      1.00      0.97        42\n",
      "\n",
      "    accuracy                           0.95        75\n",
      "   macro avg       0.95      0.92      0.93        75\n",
      "weighted avg       0.95      0.95      0.95        75\n",
      "\n"
     ]
    }
   ],
   "source": [
    "rf_d_report = classification_report(y_test, rf_pred_d)\n",
    "\n",
    "# Plot classification reports\n",
    "print(\"[ Random forest report ]\\n\")\n",
    "print(rf_d_report)\n",
    "#plot_classification_report(rf_d_report, \"Random Forest Classification Report\")"
   ]
  },
  {
   "cell_type": "code",
   "execution_count": 41,
   "id": "09e4a77c",
   "metadata": {
    "execution": {
     "iopub.execute_input": "2024-04-29T07:47:34.191487Z",
     "iopub.status.busy": "2024-04-29T07:47:34.191047Z",
     "iopub.status.idle": "2024-04-29T07:47:34.205304Z",
     "shell.execute_reply": "2024-04-29T07:47:34.204138Z"
    },
    "papermill": {
     "duration": 0.033475,
     "end_time": "2024-04-29T07:47:34.207568",
     "exception": false,
     "start_time": "2024-04-29T07:47:34.174093",
     "status": "completed"
    },
    "tags": []
   },
   "outputs": [
    {
     "name": "stdout",
     "output_type": "stream",
     "text": [
      "[ Gradient Boosting report ]\n",
      "\n",
      "              precision    recall  f1-score   support\n",
      "\n",
      "           0       0.93      0.87      0.90        15\n",
      "           1       1.00      0.89      0.94        18\n",
      "           2       0.93      1.00      0.97        42\n",
      "\n",
      "    accuracy                           0.95        75\n",
      "   macro avg       0.95      0.92      0.93        75\n",
      "weighted avg       0.95      0.95      0.95        75\n",
      "\n"
     ]
    }
   ],
   "source": [
    "gb_d_report = classification_report(y_test, gb_pred_d)\n",
    "\n",
    "# Plot classification reports\n",
    "print(\"[ Gradient Boosting report ]\\n\")\n",
    "print(gb_d_report)\n",
    "#plot_classification_report(rf_d_report, \"Gradient Boosting Classification Report\")"
   ]
  },
  {
   "cell_type": "code",
   "execution_count": 43,
   "id": "da5a4f7e",
   "metadata": {
    "execution": {
     "iopub.execute_input": "2024-04-29T07:47:34.241751Z",
     "iopub.status.busy": "2024-04-29T07:47:34.240670Z",
     "iopub.status.idle": "2024-04-29T07:47:34.260479Z",
     "shell.execute_reply": "2024-04-29T07:47:34.259337Z"
    },
    "papermill": {
     "duration": 0.039024,
     "end_time": "2024-04-29T07:47:34.262589",
     "exception": false,
     "start_time": "2024-04-29T07:47:34.223565",
     "status": "completed"
    },
    "tags": []
   },
   "outputs": [
    {
     "name": "stdout",
     "output_type": "stream",
     "text": [
      "[0.9066666666666666, 0.9466666666666667, 0.9466666666666667]\n"
     ]
    }
   ],
   "source": [
    "lr_accuracy = accuracy_score(y_test, lr_pred_d)\n",
    "rf_accuracy = accuracy_score(y_test, rf_pred_d)\n",
    "gb_accuracy = accuracy_score(y_test, gb_pred_d)\n",
    "\n",
    "accuracy_scores = [lr_accuracy,rf_accuracy,gb_accuracy] \n",
    "print(accuracy_scores)\n",
    "    \n",
    "# fig = go.Figure(data=go.Bar(x=['Logistic Regression','Random Forest','Gradient Boosting'], y=accuracy_scores, width=[0.2, 0.2, 0.2]) ) \n",
    "# fig.update_layout(title='Comparison of Models',\n",
    "#                   xaxis=dict(title='Models'),\n",
    "#                   yaxis=dict(title='Accuracy Score'))\n",
    "# fig.show()"
   ]
  },
  {
   "cell_type": "code",
   "execution_count": 48,
   "id": "c62e990d",
   "metadata": {
    "papermill": {
     "duration": 0.01575,
     "end_time": "2024-04-29T07:47:34.294355",
     "exception": false,
     "start_time": "2024-04-29T07:47:34.278605",
     "status": "completed"
    },
    "tags": []
   },
   "outputs": [
    {
     "data": {
      "text/plain": [
       "['model.pkl']"
      ]
     },
     "execution_count": 48,
     "metadata": {},
     "output_type": "execute_result"
    }
   ],
   "source": [
    "import joblib\n",
    "joblib.dump(rf_d, 'model.pkl')"
   ]
  },
  {
   "cell_type": "code",
   "execution_count": 51,
   "id": "99869b0d",
   "metadata": {},
   "outputs": [],
   "source": [
    "model = joblib.load('model.pkl')"
   ]
  },
  {
   "cell_type": "code",
   "execution_count": 52,
   "id": "e6935f0a",
   "metadata": {},
   "outputs": [
    {
     "name": "stdout",
     "output_type": "stream",
     "text": [
      "Prediction: [1]\n"
     ]
    }
   ],
   "source": [
    "import numpy as np\n",
    "\n",
    "# Example values for each feature\n",
    "gender = 1                      # 1 for male, 0 for female\n",
    "age = 30                        # Age in years\n",
    "occupation = 1                  # Encoded occupation type (e.g., 1 for office worker)\n",
    "sleep_duration = 7.5            # Hours of sleep per day\n",
    "quality_of_sleep = 4            # Sleep quality on a scale of 1-5\n",
    "physical_activity_level = 2     # 2 for active\n",
    "stress_level = 5                # Stress level on a scale of 1-10\n",
    "bmi_category = 1                # BMI category (1 for normal)\n",
    "heart_rate = 72                 # Heart rate in bpm\n",
    "daily_steps = 10000             # Number of steps per day\n",
    "blood_pressure_upper = 120      # Systolic blood pressure\n",
    "blood_pressure_lower = 80       # Diastolic blood pressure\n",
    "\n",
    "# Create the input features array\n",
    "input_features = np.array([[gender, age, occupation, sleep_duration, quality_of_sleep,\n",
    "                            physical_activity_level, stress_level, bmi_category,\n",
    "                            heart_rate, daily_steps, blood_pressure_upper, blood_pressure_lower]])\n",
    "\n",
    "# Predict using the loaded model\n",
    "prediction = model.predict(input_features)\n",
    "\n",
    "print(\"Prediction:\", prediction)\n"
   ]
  }
 ],
 "metadata": {
  "kaggle": {
   "accelerator": "none",
   "dataSources": [
    {
     "datasetId": 3321433,
     "sourceId": 6491929,
     "sourceType": "datasetVersion"
    }
   ],
   "dockerImageVersionId": 30684,
   "isGpuEnabled": false,
   "isInternetEnabled": true,
   "language": "python",
   "sourceType": "notebook"
  },
  "kernelspec": {
   "display_name": "base",
   "language": "python",
   "name": "python3"
  },
  "language_info": {
   "codemirror_mode": {
    "name": "ipython",
    "version": 3
   },
   "file_extension": ".py",
   "mimetype": "text/x-python",
   "name": "python",
   "nbconvert_exporter": "python",
   "pygments_lexer": "ipython3",
   "version": "3.10.15"
  },
  "papermill": {
   "default_parameters": {},
   "duration": 13.111163,
   "end_time": "2024-04-29T07:47:35.032876",
   "environment_variables": {},
   "exception": null,
   "input_path": "__notebook__.ipynb",
   "output_path": "__notebook__.ipynb",
   "parameters": {},
   "start_time": "2024-04-29T07:47:21.921713",
   "version": "2.5.0"
  }
 },
 "nbformat": 4,
 "nbformat_minor": 5
}
